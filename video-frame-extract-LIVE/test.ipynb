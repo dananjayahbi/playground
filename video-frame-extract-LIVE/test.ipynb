{
 "cells": [
  {
   "cell_type": "code",
   "execution_count": 1,
   "metadata": {},
   "outputs": [
    {
     "name": "stdout",
     "output_type": "stream",
     "text": [
      "Press Ctrl+C to quit the script.\n",
      "Script stopped by the user.\n",
      "Extracted 35 frames and saved to webcam_frames.\n"
     ]
    }
   ],
   "source": [
    "import cv2\n",
    "import os\n",
    "\n",
    "# Function to extract frames from live webcam feed\n",
    "def extract_frames_from_webcam(output_dir, frame_skip=1):\n",
    "    \"\"\"\n",
    "    Extract frames from a live webcam feed and save them as image files.\n",
    "\n",
    "    Parameters:\n",
    "        output_dir (str): Directory to save the extracted frames.\n",
    "        frame_skip (int): Number of frames to skip before extracting the next frame.\n",
    "    \"\"\"\n",
    "    # Ensure output directory exists\n",
    "    if not os.path.exists(output_dir):\n",
    "        os.makedirs(output_dir)\n",
    "    \n",
    "    # Open the webcam (0 is the default camera)\n",
    "    cap = cv2.VideoCapture(0)\n",
    "    if not cap.isOpened():\n",
    "        print(\"Error: Cannot access webcam.\")\n",
    "        return\n",
    "    \n",
    "    frame_idx = 0\n",
    "    extracted_count = 0\n",
    "\n",
    "    print(\"Press Ctrl+C to quit the script.\")\n",
    "    try:\n",
    "        while True:\n",
    "            ret, frame = cap.read()\n",
    "            if not ret:\n",
    "                print(\"Error: Cannot read frame from webcam.\")\n",
    "                break\n",
    "            \n",
    "            # Save the frame if it's the right interval\n",
    "            if frame_idx % frame_skip == 0:\n",
    "                output_path = os.path.join(output_dir, f\"frame_{frame_idx:06d}.jpg\")\n",
    "                cv2.imwrite(output_path, frame)\n",
    "                extracted_count += 1\n",
    "            \n",
    "            frame_idx += 1\n",
    "    except KeyboardInterrupt:\n",
    "        print(\"Script stopped by the user.\")\n",
    "    finally:\n",
    "        cap.release()\n",
    "        print(f\"Extracted {extracted_count} frames and saved to {output_dir}.\")\n",
    "\n",
    "# Example usage\n",
    "output_dir = \"webcam_frames\"  # Directory to save frames\n",
    "frame_skip = 30  # Extract one frame every 30 frames\n",
    "\n",
    "extract_frames_from_webcam(output_dir, frame_skip)\n"
   ]
  }
 ],
 "metadata": {
  "kernelspec": {
   "display_name": "Python 3",
   "language": "python",
   "name": "python3"
  },
  "language_info": {
   "codemirror_mode": {
    "name": "ipython",
    "version": 3
   },
   "file_extension": ".py",
   "mimetype": "text/x-python",
   "name": "python",
   "nbconvert_exporter": "python",
   "pygments_lexer": "ipython3",
   "version": "3.12.3"
  }
 },
 "nbformat": 4,
 "nbformat_minor": 2
}
